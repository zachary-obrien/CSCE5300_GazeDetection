{
  "nbformat": 4,
  "nbformat_minor": 0,
  "metadata": {
    "colab": {
      "name": "CSCE5310_Gaze_Classifier",
      "provenance": [],
      "collapsed_sections": []
    },
    "kernelspec": {
      "name": "python3",
      "display_name": "Python 3"
    },
    "language_info": {
      "name": "python"
    }
  },
  "cells": [
    {
      "cell_type": "markdown",
      "metadata": {
        "id": "eAI-PtVvVOCy"
      },
      "source": [
        "Zachary OBrien - CSCE 5215 - HW2"
      ]
    },
    {
      "cell_type": "code",
      "metadata": {
        "id": "SHyPyMjWs0gy"
      },
      "source": [
        "import pandas as pd\n",
        "import numpy as np\n",
        "import matplotlib.pyplot as plt\n",
        "from sklearn import datasets, svm, metrics\n",
        "from sklearn.model_selection import train_test_split\n",
        "from sklearn.metrics import confusion_matrix\n",
        "from sklearn.utils.multiclass import unique_labels\n",
        "from sklearn.neighbors import KNeighborsClassifier\n",
        "from sklearn.tree import DecisionTreeClassifier \n",
        "from sklearn.linear_model import LogisticRegression\n",
        "from sklearn.model_selection import cross_val_score, GridSearchCV\n",
        "from sklearn.pipeline import make_pipeline\n",
        "from sklearn.preprocessing import StandardScaler\n",
        "from sklearn.pipeline import Pipeline\n",
        "\n",
        "%matplotlib inline\n"
      ],
      "execution_count": null,
      "outputs": []
    },
    {
      "cell_type": "markdown",
      "metadata": {
        "id": "d5jD4nRMI_HA"
      },
      "source": [
        "Setup data"
      ]
    },
    {
      "cell_type": "code",
      "metadata": {
        "id": "wv_9fQugI95T"
      },
      "source": [
        "digits = datasets.load_digits()\n",
        "\n",
        "n_samples = len(digits.images)\n",
        "data = digits.images.reshape((n_samples, -1))\n",
        "\n",
        "# X_train, X_test, y_train, y_test = train_test_split(\n",
        "#     data, digits.target, stratify=True, test_size=0.20)\n",
        "X_train, X_test, y_train, y_test = train_test_split(\n",
        "    data, digits.target, test_size=0.20)\n",
        "\n",
        "outcomes = {}\n",
        "train_scores = {}"
      ],
      "execution_count": null,
      "outputs": []
    },
    {
      "cell_type": "markdown",
      "metadata": {
        "id": "ebss7ZexJDFm"
      },
      "source": [
        "Default SVC - Scores at bottom"
      ]
    },
    {
      "cell_type": "code",
      "metadata": {
        "id": "lK90C_7XV2l0"
      },
      "source": [
        "svc_clf = svm.SVC()\n",
        "svc_clf.fit(X_train, y_train)\n",
        "outcomes[\"default_svc\"] = svc_clf.predict(X_test)"
      ],
      "execution_count": null,
      "outputs": []
    },
    {
      "cell_type": "markdown",
      "metadata": {
        "id": "s7sOmn0eJEjA"
      },
      "source": [
        "Default KNN - Scores at bottom"
      ]
    },
    {
      "cell_type": "code",
      "metadata": {
        "id": "Ve3NhxlxV2fI"
      },
      "source": [
        "k_clf = KNeighborsClassifier()\n",
        "k_clf.fit(X_train, y_train)\n",
        "outcomes[\"default_k\"] = k_clf.predict(X_test)"
      ],
      "execution_count": null,
      "outputs": []
    },
    {
      "cell_type": "markdown",
      "metadata": {
        "id": "A7U5RzV2JGvm"
      },
      "source": [
        "Default Decision Tree - Scores at bottom"
      ]
    },
    {
      "cell_type": "code",
      "metadata": {
        "id": "JPU1kLooV2Yp"
      },
      "source": [
        "dtree_clf = DecisionTreeClassifier()\n",
        "dtree_clf.fit(X_train , y_train)\n",
        "outcomes[\"default_dtree\"] = dtree_clf.predict(X_test)"
      ],
      "execution_count": null,
      "outputs": []
    },
    {
      "cell_type": "markdown",
      "metadata": {
        "id": "jjCHFtdbJIm7"
      },
      "source": [
        "Default Logistic Regression - Scores at bottom"
      ]
    },
    {
      "cell_type": "code",
      "metadata": {
        "id": "0KFIqx5teJdy"
      },
      "source": [
        "log_clf = LogisticRegression(max_iter=10000, solver='liblinear')\n",
        "log_clf.fit(X_train, y_train)\n",
        "outcomes[\"default_log\"] = log_clf.predict(X_test)"
      ],
      "execution_count": null,
      "outputs": []
    },
    {
      "cell_type": "markdown",
      "metadata": {
        "id": "OsvuO3fbI2yr"
      },
      "source": [
        "Default for GridSearchCV is 5 fold cross-validation"
      ]
    },
    {
      "cell_type": "markdown",
      "metadata": {
        "id": "N8ZJ6u1rJPHn"
      },
      "source": [
        "SVC w/ Cross Validation"
      ]
    },
    {
      "cell_type": "code",
      "metadata": {
        "colab": {
          "base_uri": "https://localhost:8080/"
        },
        "id": "z20rcB3Nkgv4",
        "outputId": "6114098e-e264-4170-da0e-271a3fe5e049"
      },
      "source": [
        "c_range = [10**x for x in range(-5, 5)]\n",
        "gamma_range = [10**x for x in range(-5, 5)]\n",
        "svc_parameters = {'C': c_range, 'gamma': gamma_range, 'kernel': ['rbf']}\n",
        "svc_cross = GridSearchCV(svc_clf, svc_parameters)\n",
        "svc_cross.fit(X_train, y_train)\n",
        "print(\"tuned hpyerparameters :(best parameters) \",svc_cross.best_params_)\n",
        "print(\"accuracy :\",svc_cross.best_score_)\n",
        "train_scores['svc_search'] = svc_cross.best_score_\n",
        "outcomes['svc_tuned'] = svc_cross.predict(X_test)"
      ],
      "execution_count": null,
      "outputs": [
        {
          "output_type": "stream",
          "name": "stdout",
          "text": [
            "tuned hpyerparameters :(best parameters)  {'C': 10, 'gamma': 0.001, 'kernel': 'rbf'}\n",
            "accuracy : 0.9902584204413472\n"
          ]
        }
      ]
    },
    {
      "cell_type": "markdown",
      "metadata": {
        "id": "mmKaqTRXJSal"
      },
      "source": [
        "KNN w/ Cross Validation"
      ]
    },
    {
      "cell_type": "code",
      "metadata": {
        "colab": {
          "base_uri": "https://localhost:8080/"
        },
        "id": "CBvAnbdYhrnh",
        "outputId": "06e9ee62-3dd0-4203-92a4-6d1849851140"
      },
      "source": [
        "k_parameters = {'n_neighbors': [1,3,5,7,9]}\n",
        "k_cross = GridSearchCV(k_clf, k_parameters)\n",
        "k_cross.fit(X_train, y_train)\n",
        "print(\"tuned hpyerparameters :(best parameters) \",k_cross.best_params_)\n",
        "print(\"accuracy :\",k_cross.best_score_)\n",
        "train_scores['k_search'] = k_cross.best_score_\n",
        "outcomes['k_tuned'] = k_cross.predict(X_test)"
      ],
      "execution_count": null,
      "outputs": [
        {
          "output_type": "stream",
          "name": "stdout",
          "text": [
            "tuned hpyerparameters :(best parameters)  {'n_neighbors': 3}\n",
            "accuracy : 0.9860796554394116\n"
          ]
        }
      ]
    },
    {
      "cell_type": "markdown",
      "metadata": {
        "id": "w5y7a6L0JVB_"
      },
      "source": [
        "Decision Tree w/ Cross Validation"
      ]
    },
    {
      "cell_type": "code",
      "metadata": {
        "colab": {
          "base_uri": "https://localhost:8080/"
        },
        "id": "jDIpuJWyi_QZ",
        "outputId": "04815c88-23e8-41d8-fe7b-7be2ab8fdc25"
      },
      "source": [
        "dtree_parameters = {'min_samples_split': [3,5,7,9]}\n",
        "dtree_cross = GridSearchCV(dtree_clf, dtree_parameters)\n",
        "dtree_cross.fit(X_train, y_train)\n",
        "print(\"tuned hpyerparameters :(best parameters) \",dtree_cross.best_params_)\n",
        "print(\"accuracy :\",dtree_cross.best_score_)\n",
        "train_scores['dtree_search'] = dtree_cross.best_score_\n",
        "outcomes['dtree_tuned'] = dtree_cross.predict(X_test)"
      ],
      "execution_count": null,
      "outputs": [
        {
          "output_type": "stream",
          "name": "stdout",
          "text": [
            "tuned hpyerparameters :(best parameters)  {'min_samples_split': 5}\n",
            "accuracy : 0.8475827526132405\n"
          ]
        }
      ]
    },
    {
      "cell_type": "markdown",
      "metadata": {
        "id": "bs3V3OGXJWcQ"
      },
      "source": [
        "Linear Regression w/ Cross Validation"
      ]
    },
    {
      "cell_type": "code",
      "metadata": {
        "colab": {
          "base_uri": "https://localhost:8080/"
        },
        "id": "woNHwIX0i_NH",
        "outputId": "a90efe6f-9113-498b-8abf-04f9653e4a26"
      },
      "source": [
        "c_range = [10**x for x in range(-5, 5)]\n",
        "log_parameters = {\"C\":c_range, \"penalty\":[\"l1\"]}\n",
        "log_cross = GridSearchCV(log_clf, log_parameters)\n",
        "log_cross.fit(X_train, y_train)\n",
        "print(\"tuned hpyerparameters :(best parameters) \",log_cross.best_params_)\n",
        "print(\"accuracy :\",log_cross.best_score_)\n",
        "train_scores['log_search'] = log_cross.best_score_\n",
        "outcomes['log_tuned'] = log_cross.predict(X_test)"
      ],
      "execution_count": null,
      "outputs": [
        {
          "output_type": "stream",
          "name": "stdout",
          "text": [
            "tuned hpyerparameters :(best parameters)  {'C': 0.1, 'penalty': 'l1'}\n",
            "accuracy : 0.9630976577622918\n"
          ]
        }
      ]
    },
    {
      "cell_type": "markdown",
      "metadata": {
        "id": "HEVeh3COJZbb"
      },
      "source": [
        "Function to more easily plot confusion matricies"
      ]
    },
    {
      "cell_type": "code",
      "metadata": {
        "id": "7EC2ttk-KK6O"
      },
      "source": [
        "# from https://www.kaggle.com/grfiv4/plot-a-confusion-matrix\n",
        "def plot_confusion_matrix(y_true, y_pred, cm, classes=None,\n",
        "                          normalize=False,\n",
        "                          title=None,\n",
        "                          cmap=plt.cm.Blues):\n",
        "    \"\"\"\n",
        "    This function prints and plots the confusion matrix.\n",
        "    Normalization can be applied by setting `normalize=True`.\n",
        "    \"\"\"\n",
        "    if not title:\n",
        "        if normalize:\n",
        "            title = 'Normalized confusion matrix'\n",
        "        else:\n",
        "            title = 'Confusion matrix, without normalization'\n",
        "\n",
        "    # Only use the labels that appear in the data\n",
        "    if classes:\n",
        "        classes = classes[unique_labels(y_true, y_pred)]\n",
        "    else:\n",
        "        classes = unique_labels(y_true, y_pred)\n",
        "    if normalize:\n",
        "        cm = cm.astype('float') / cm.sum(axis=1)[:, np.newaxis]\n",
        "    #     print(\"Normalized confusion matrix\")\n",
        "    # else:\n",
        "    #     print('Confusion matrix, without normalization')\n",
        "    print(title, \"Confusion Matrix\")\n",
        "    fig, ax = plt.subplots()\n",
        "    im = ax.imshow(cm, interpolation='nearest', cmap=cmap)\n",
        "    ax.figure.colorbar(im, ax=ax)\n",
        "    # We want to show all ticks...\n",
        "    ax.set(xticks=np.arange(cm.shape[1]),\n",
        "           yticks=np.arange(cm.shape[0]),\n",
        "           # ... and label them with the respective list entries\n",
        "           xticklabels=classes, yticklabels=classes,\n",
        "           title=title,\n",
        "           ylabel='True label',\n",
        "           xlabel='Predicted label')\n",
        "\n",
        "    # Rotate the tick labels and set their alignment.\n",
        "    plt.setp(ax.get_xticklabels(), rotation=45, ha=\"right\",\n",
        "             rotation_mode=\"anchor\")\n",
        "\n",
        "    # Loop over data dimensions and create text annotations.\n",
        "    fmt = '.2f' if normalize else 'd'\n",
        "    thresh = cm.max() / 2.\n",
        "    for i in range(cm.shape[0]):\n",
        "        for j in range(cm.shape[1]):\n",
        "            ax.text(j, i, format(cm[i, j], fmt),\n",
        "                    ha=\"center\", va=\"center\",\n",
        "                    color=\"white\" if cm[i, j] > thresh else \"black\")\n",
        "    fig.tight_layout()\n",
        "    return ax\n"
      ],
      "execution_count": null,
      "outputs": []
    },
    {
      "cell_type": "markdown",
      "metadata": {
        "id": "Co3sYi5xJ2R4"
      },
      "source": [
        "Fetch the scores - Data in more readable table below"
      ]
    },
    {
      "cell_type": "code",
      "metadata": {
        "colab": {
          "base_uri": "https://localhost:8080/"
        },
        "id": "6vdzeD3mV2RJ",
        "outputId": "baeb685a-f771-47bf-f0b2-051a2fd461e8"
      },
      "source": [
        "for key in train_scores.keys():\n",
        "    print(\"Score for\", key, \"is\", round(train_scores[key]*100, 3), \"%\")\n",
        "for key in outcomes.keys():\n",
        "    cm = confusion_matrix(y_test, outcomes[key])\n",
        "    #plot_confusion_matrix(y_test, outcomes[key], cm=cm, title=\"{}\".format(key))\n",
        "    correct = 0\n",
        "    incorrect = 0\n",
        "    for i in range(len(cm)):\n",
        "        for j in range(len(cm[i])):\n",
        "            if i == j:\n",
        "                correct += cm[i][j]\n",
        "            else:\n",
        "                incorrect += cm[i][j]\n",
        "    print(\"score for {}\".format(key), round((correct / (correct + incorrect)) * 100, 3), \"% accurate\")"
      ],
      "execution_count": null,
      "outputs": [
        {
          "output_type": "stream",
          "name": "stdout",
          "text": [
            "Score for svc_search is 99.026 %\n",
            "Score for k_search is 98.608 %\n",
            "Score for dtree_search is 84.758 %\n",
            "Score for log_search is 96.31 %\n",
            "score for default_svc 98.611 % accurate\n",
            "score for default_k 99.167 % accurate\n",
            "score for default_dtree 83.611 % accurate\n",
            "score for default_log 96.111 % accurate\n",
            "score for svc_tuned 98.889 % accurate\n",
            "score for k_tuned 98.889 % accurate\n",
            "score for dtree_tuned 84.444 % accurate\n",
            "score for log_tuned 95.833 % accurate\n"
          ]
        }
      ]
    },
    {
      "cell_type": "markdown",
      "metadata": {
        "id": "y1N3uo_2MvVF"
      },
      "source": [
        "![CSCE5215_HW2_Table.PNG](data:image/png;base64,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)\n",
        "<br>\n",
        "<br>\n",
        "<br>\n",
        "<br>\n",
        "<br>"
      ]
    },
    {
      "cell_type": "code",
      "metadata": {
        "id": "c9fEilf_Hz3v"
      },
      "source": [
        "!apt-get install texlive texlive-xetex texlive-latex-extra pandoc\n",
        "!pip install pypandoc"
      ],
      "execution_count": null,
      "outputs": []
    },
    {
      "cell_type": "code",
      "metadata": {
        "id": "ASeEteHKH1tY"
      },
      "source": [
        "!jupyter nbconvert --to PDF \"CSCE5215_HW2.ipynb\""
      ],
      "execution_count": null,
      "outputs": []
    },
    {
      "cell_type": "markdown",
      "metadata": {
        "id": "E4hDfwKafWxf"
      },
      "source": [
        "\n",
        "**FINAL RESULTS** (unformatted)\n",
        "\n",
        "\n",
        "---\n",
        "\n",
        "\n",
        "Model: **SVM**\n",
        "<br>Default Validation Accuracy: 98.61%\n",
        "<br>Tuned Validation Accuracy: 96.03%\n",
        "<br>Selected Hyperparameters: C = 1, Gamma = 0.001\n",
        "<br>Final Test Set Accuracy: 98.89%\n",
        "\n",
        "---\n",
        "\n",
        "Model: **k-NN**\n",
        "<br>Default Validation Accuracy: 99.17%\n",
        "<br>Tuned Validation Accuracy: 98.61%\n",
        "<br>Selected Hyperparameters: K = 3\n",
        "<br>Final Test Set Accuracy: 98.89%\n",
        "\n",
        "---\n",
        "\n",
        "Model: **Decision Trees**\n",
        "<br>Default Validation Accuracy: 83.61%\n",
        "<br>Tuned Validation Accuracy: min_samples_split = 5\n",
        "<br>Selected Hyperparameters: 84.76%\n",
        "<br>Final Test Set Accuracy: 84.44%\n",
        "\n",
        "---\n",
        "\n",
        "Model: **Logistic Regression**\n",
        "<br>Default Validation Accuracy: 96.11%\n",
        "<br>Tuned Validation Accuracy: 96.31%\n",
        "<br>Selected Hyperparameters: C = 0.1\n",
        "<br>Final Test Set Accuracy: 95.83%"
      ]
    }
  ]
}