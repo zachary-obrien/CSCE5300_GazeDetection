{
 "nbformat": 4,
 "nbformat_minor": 0,
 "metadata": {
  "colab": {
   "name": "CSCE5310_Gaze_Classifier",
   "provenance": [],
   "collapsed_sections": []
  },
  "kernelspec": {
   "name": "python3",
   "display_name": "Python 3"
  },
  "language_info": {
   "name": "python"
  }
 },
 "cells": [
  {
   "cell_type": "markdown",
   "metadata": {
    "id": "eAI-PtVvVOCy"
   },
   "source": [
    "Zachary OBrien - CSCE 5215 - HW2"
   ]
  },
  {
   "cell_type": "code",
   "metadata": {
    "id": "SHyPyMjWs0gy"
   },
   "source": [
    "import pandas as pd\n",
    "import numpy as np\n",
    "import matplotlib.pyplot as plt\n",
    "from sklearn import datasets, svm, metrics\n",
    "from sklearn.model_selection import train_test_split\n",
    "from sklearn.metrics import confusion_matrix\n",
    "from sklearn.utils.multiclass import unique_labels\n",
    "from sklearn.neighbors import KNeighborsClassifier\n",
    "from sklearn.tree import DecisionTreeClassifier \n",
    "from sklearn.linear_model import LogisticRegression\n",
    "from sklearn.model_selection import cross_val_score, GridSearchCV\n",
    "from sklearn.pipeline import make_pipeline\n",
    "from sklearn.preprocessing import StandardScaler\n",
    "from sklearn.pipeline import Pipeline\n",
    "\n",
    "%matplotlib inline\n"
   ],
   "execution_count": null,
   "outputs": []
  },
  {
   "cell_type": "markdown",
   "metadata": {
    "id": "d5jD4nRMI_HA"
   },
   "source": [
    "Setup data"
   ]
  },
  {
   "cell_type": "code",
   "metadata": {
    "id": "wv_9fQugI95T"
   },
   "source": [
    "digits = datasets.load_digits()\n",
    "\n",
    "n_samples = len(digits.images)\n",
    "data = digits.images.reshape((n_samples, -1))\n",
    "\n",
    "# X_train, X_test, y_train, y_test = train_test_split(\n",
    "#     data, digits.target, stratify=True, test_size=0.20)\n",
    "X_train, X_test, y_train, y_test = train_test_split(\n",
    "    data, digits.target, test_size=0.20)\n",
    "\n",
    "outcomes = {}\n",
    "train_scores = {}"
   ],
   "execution_count": null,
   "outputs": []
  },
  {
   "cell_type": "markdown",
   "metadata": {
    "id": "ebss7ZexJDFm"
   },
   "source": [
    "Default SVC - Scores at bottom"
   ]
  },
  {
   "cell_type": "code",
   "metadata": {
    "id": "lK90C_7XV2l0"
   },
   "source": [
    "svc_clf = svm.SVC()\n",
    "svc_clf.fit(X_train, y_train)\n",
    "outcomes[\"default_svc\"] = svc_clf.predict(X_test)"
   ],
   "execution_count": null,
   "outputs": []
  },
  {
   "cell_type": "markdown",
   "metadata": {
    "id": "s7sOmn0eJEjA"
   },
   "source": [
    "Default KNN - Scores at bottom"
   ]
  },
  {
   "cell_type": "code",
   "metadata": {
    "id": "Ve3NhxlxV2fI"
   },
   "source": [
    "k_clf = KNeighborsClassifier()\n",
    "k_clf.fit(X_train, y_train)\n",
    "outcomes[\"default_k\"] = k_clf.predict(X_test)"
   ],
   "execution_count": null,
   "outputs": []
  },
  {
   "cell_type": "markdown",
   "metadata": {
    "id": "A7U5RzV2JGvm"
   },
   "source": [
    "Default Decision Tree - Scores at bottom"
   ]
  },
  {
   "cell_type": "code",
   "metadata": {
    "id": "JPU1kLooV2Yp"
   },
   "source": [
    "dtree_clf = DecisionTreeClassifier()\n",
    "dtree_clf.fit(X_train , y_train)\n",
    "outcomes[\"default_dtree\"] = dtree_clf.predict(X_test)"
   ],
   "execution_count": null,
   "outputs": []
  },
  {
   "cell_type": "markdown",
   "metadata": {
    "id": "jjCHFtdbJIm7"
   },
   "source": [
    "Default Logistic Regression - Scores at bottom"
   ]
  },
  {
   "cell_type": "code",
   "metadata": {
    "id": "0KFIqx5teJdy"
   },
   "source": [
    "log_clf = LogisticRegression(max_iter=10000, solver='liblinear')\n",
    "log_clf.fit(X_train, y_train)\n",
    "outcomes[\"default_log\"] = log_clf.predict(X_test)"
   ],
   "execution_count": null,
   "outputs": []
  },
  {
   "cell_type": "markdown",
   "metadata": {
    "id": "OsvuO3fbI2yr"
   },
   "source": [
    "Default for GridSearchCV is 5 fold cross-validation"
   ]
  },
  {
   "cell_type": "markdown",
   "metadata": {
    "id": "N8ZJ6u1rJPHn"
   },
   "source": [
    "SVC w/ Cross Validation"
   ]
  },
  {
   "cell_type": "code",
   "metadata": {
    "colab": {
     "base_uri": "https://localhost:8080/"
    },
    "id": "z20rcB3Nkgv4",
    "outputId": "6114098e-e264-4170-da0e-271a3fe5e049"
   },
   "source": [
    "c_range = [10**x for x in range(-5, 5)]\n",
    "gamma_range = [10**x for x in range(-5, 5)]\n",
    "svc_parameters = {'C': c_range, 'gamma': gamma_range, 'kernel': ['rbf']}\n",
    "svc_cross = GridSearchCV(svc_clf, svc_parameters)\n",
    "svc_cross.fit(X_train, y_train)\n",
    "print(\"tuned hpyerparameters :(best parameters) \",svc_cross.best_params_)\n",
    "print(\"accuracy :\",svc_cross.best_score_)\n",
    "train_scores['svc_search'] = svc_cross.best_score_\n",
    "outcomes['svc_tuned'] = svc_cross.predict(X_test)"
   ],
   "execution_count": null,
   "outputs": []
  },
  {
   "cell_type": "markdown",
   "source": [
    "KNN w/ Cross Validation"
   ],
   "metadata": {
    "collapsed": false
   }
  },
  {
   "cell_type": "code",
   "metadata": {
    "colab": {
     "base_uri": "https://localhost:8080/"
    },
    "id": "CBvAnbdYhrnh",
    "outputId": "06e9ee62-3dd0-4203-92a4-6d1849851140"
   },
   "source": [
    "k_parameters = {'n_neighbors': [1,3,5,7,9]}\n",
    "k_cross = GridSearchCV(k_clf, k_parameters)\n",
    "k_cross.fit(X_train, y_train)\n",
    "print(\"tuned hpyerparameters :(best parameters) \",k_cross.best_params_)\n",
    "print(\"accuracy :\",k_cross.best_score_)\n",
    "train_scores['k_search'] = k_cross.best_score_\n",
    "outcomes['k_tuned'] = k_cross.predict(X_test)"
   ],
   "execution_count": null,
   "outputs": []
  },
  {
   "cell_type": "markdown",
   "source": [
    "Decision Tree w/ Cross Validation"
   ],
   "metadata": {
    "collapsed": false
   }
  },
  {
   "cell_type": "code",
   "metadata": {
    "colab": {
     "base_uri": "https://localhost:8080/"
    },
    "id": "jDIpuJWyi_QZ",
    "outputId": "04815c88-23e8-41d8-fe7b-7be2ab8fdc25"
   },
   "source": [
    "dtree_parameters = {'min_samples_split': [3,5,7,9]}\n",
    "dtree_cross = GridSearchCV(dtree_clf, dtree_parameters)\n",
    "dtree_cross.fit(X_train, y_train)\n",
    "print(\"tuned hpyerparameters :(best parameters) \",dtree_cross.best_params_)\n",
    "print(\"accuracy :\",dtree_cross.best_score_)\n",
    "train_scores['dtree_search'] = dtree_cross.best_score_\n",
    "outcomes['dtree_tuned'] = dtree_cross.predict(X_test)"
   ],
   "execution_count": null,
   "outputs": []
  },
  {
   "cell_type": "markdown",
   "source": [
    "Linear Regression w/ Cross Validation"
   ],
   "metadata": {
    "collapsed": false
   }
  },
  {
   "cell_type": "code",
   "metadata": {
    "colab": {
     "base_uri": "https://localhost:8080/"
    },
    "id": "woNHwIX0i_NH",
    "outputId": "a90efe6f-9113-498b-8abf-04f9653e4a26"
   },
   "source": [
    "c_range = [10**x for x in range(-5, 5)]\n",
    "log_parameters = {\"C\":c_range, \"penalty\":[\"l1\"]}\n",
    "log_cross = GridSearchCV(log_clf, log_parameters)\n",
    "log_cross.fit(X_train, y_train)\n",
    "print(\"tuned hpyerparameters :(best parameters) \",log_cross.best_params_)\n",
    "print(\"accuracy :\",log_cross.best_score_)\n",
    "train_scores['log_search'] = log_cross.best_score_\n",
    "outcomes['log_tuned'] = log_cross.predict(X_test)"
   ],
   "execution_count": null,
   "outputs": []
  },
  {
   "cell_type": "markdown",
   "source": [
    "Function to more easily plot confusion matricies"
   ],
   "metadata": {
    "collapsed": false
   }
  },
  {
   "cell_type": "code",
   "metadata": {
    "id": "7EC2ttk-KK6O"
   },
   "source": [
    "# from https://www.kaggle.com/grfiv4/plot-a-confusion-matrix\n",
    "def plot_confusion_matrix(y_true, y_pred, cm, classes=None,\n",
    "                          normalize=False,\n",
    "                          title=None,\n",
    "                          cmap=plt.cm.Blues):\n",
    "    \"\"\"\n",
    "    This function prints and plots the confusion matrix.\n",
    "    Normalization can be applied by setting `normalize=True`.\n",
    "    \"\"\"\n",
    "    if not title:\n",
    "        if normalize:\n",
    "            title = 'Normalized confusion matrix'\n",
    "        else:\n",
    "            title = 'Confusion matrix, without normalization'\n",
    "\n",
    "    # Only use the labels that appear in the data\n",
    "    if classes:\n",
    "        classes = classes[unique_labels(y_true, y_pred)]\n",
    "    else:\n",
    "        classes = unique_labels(y_true, y_pred)\n",
    "    if normalize:\n",
    "        cm = cm.astype('float') / cm.sum(axis=1)[:, np.newaxis]\n",
    "    #     print(\"Normalized confusion matrix\")\n",
    "    # else:\n",
    "    #     print('Confusion matrix, without normalization')\n",
    "    print(title, \"Confusion Matrix\")\n",
    "    fig, ax = plt.subplots()\n",
    "    im = ax.imshow(cm, interpolation='nearest', cmap=cmap)\n",
    "    ax.figure.colorbar(im, ax=ax)\n",
    "    # We want to show all ticks...\n",
    "    ax.set(xticks=np.arange(cm.shape[1]),\n",
    "           yticks=np.arange(cm.shape[0]),\n",
    "           # ... and label them with the respective list entries\n",
    "           xticklabels=classes, yticklabels=classes,\n",
    "           title=title,\n",
    "           ylabel='True label',\n",
    "           xlabel='Predicted label')\n",
    "\n",
    "    # Rotate the tick labels and set their alignment.\n",
    "    plt.setp(ax.get_xticklabels(), rotation=45, ha=\"right\",\n",
    "             rotation_mode=\"anchor\")\n",
    "\n",
    "    # Loop over data dimensions and create text annotations.\n",
    "    fmt = '.2f' if normalize else 'd'\n",
    "    thresh = cm.max() / 2.\n",
    "    for i in range(cm.shape[0]):\n",
    "        for j in range(cm.shape[1]):\n",
    "            ax.text(j, i, format(cm[i, j], fmt),\n",
    "                    ha=\"center\", va=\"center\",\n",
    "                    color=\"white\" if cm[i, j] > thresh else \"black\")\n",
    "    fig.tight_layout()\n",
    "    return ax\n"
   ],
   "execution_count": null,
   "outputs": []
  },
  {
   "cell_type": "markdown",
   "source": [
    "Fetch the scores"
   ],
   "metadata": {
    "collapsed": false
   }
  },
  {
   "cell_type": "code",
   "metadata": {
    "colab": {
     "base_uri": "https://localhost:8080/"
    },
    "id": "6vdzeD3mV2RJ",
    "outputId": "baeb685a-f771-47bf-f0b2-051a2fd461e8",
    "pycharm": {
     "name": "#%%\n"
    }
   },
   "source": [
    "for key in train_scores.keys():\n",
    "    print(\"Score for\", key, \"is\", round(train_scores[key]*100, 3), \"%\")\n",
    "for key in outcomes.keys():\n",
    "    cm = confusion_matrix(y_test, outcomes[key])\n",
    "    #plot_confusion_matrix(y_test, outcomes[key], cm=cm, title=\"{}\".format(key))\n",
    "    correct = 0\n",
    "    incorrect = 0\n",
    "    for i in range(len(cm)):\n",
    "        for j in range(len(cm[i])):\n",
    "            if i == j:\n",
    "                correct += cm[i][j]\n",
    "            else:\n",
    "                incorrect += cm[i][j]\n",
    "    print(\"score for {}\".format(key), round((correct / (correct + incorrect)) * 100, 3), \"% accurate\")\n"
   ],
   "execution_count": null,
   "outputs": []
  }
 ]
}