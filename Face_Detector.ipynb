{
 "cells": [
  {
   "cell_type": "code",
   "execution_count": 3,
   "metadata": {},
   "outputs": [],
   "source": [
    "import os\n",
    "import cv2\n",
    "import sys\n",
    "import numpy as np\n",
    "import time\n",
    "import __main__"
   ]
  },
  {
   "cell_type": "code",
   "execution_count": 6,
   "metadata": {},
   "outputs": [],
   "source": [
    "def bbox(frame, x,y,w,h):\n",
    "    BBOX = (\"Box {0}: ({1},{2}), ({3},{4}), ({5},{6}), ({7},{8})\".format(frame,x,y,x+w,y,x+w,y+h,x,y+h))\n",
    "    \n",
    "    return BBOX"
   ]
  },
  {
   "cell_type": "code",
   "execution_count": 7,
   "metadata": {},
   "outputs": [],
   "source": [
    "cascPath = cv2.data.haarcascades + \"haarcascade_frontalface_default.xml\"\n",
    "\n",
    "# Create the haar cascade\n",
    "faceCascade = cv2.CascadeClassifier(cascPath)"
   ]
  },
  {
   "cell_type": "code",
   "execution_count": null,
   "metadata": {},
   "outputs": [],
   "source": [
    "\n",
    "for Folder in os.listdir('Extracted_Data'):  #[0:1]:\n",
    "    \n",
    "    imageFolder = r'Extracted_Data\\\\' + Folder + '\\\\appleFace\\\\'\n",
    "    \n",
    "    frames = os.listdir(imageFolder)\n",
    "    \n",
    "    for frame in frames:\n",
    "\n",
    "        imagePath = imageFolder + frame\n",
    "\n",
    "        image = cv2.imread(imagePath)\n",
    "        gray = cv2.cvtColor(image, cv2.COLOR_BGR2GRAY)\n",
    "\n",
    "        # Detect faces in the image\n",
    "        faces = faceCascade.detectMultiScale(\n",
    "            gray,\n",
    "            scaleFactor=1.1,\n",
    "            minNeighbors=5,\n",
    "            minSize=(30, 30),\n",
    "            flags=cv2.CASCADE_SCALE_IMAGE\n",
    "            )\n",
    "        \n",
    "        #print(\"Found {0} faces!\".format(len(faces)))\n",
    "        \n",
    "        # Draw a rectangle around the faces\n",
    "        for (x1, y1, w, h) in faces:\n",
    "            copy = image.copy()\n",
    "            cv2.rectangle(copy, (x1, y1), (x1+w, y1+h), (0, 255, 0), 2)\n",
    "            cv2.imshow(\"Faces found\", copy)\n",
    "            __main__.__dict__['Bounding_Box'] = bbox(frame, x1,y1,w,h)\n",
    "\n",
    "            print(__main__.__dict__['Bounding_Box'])\n",
    "            \n",
    "            cv2.waitKey(1)"
   ]
  }
 ],
 "metadata": {
  "interpreter": {
   "hash": "d1da653b9d4e8419f9e4e7f34517b2d166406bf3bd28c5de51c8f75fec185e0c"
  },
  "kernelspec": {
   "display_name": "Python 3 (ipykernel)",
   "language": "python",
   "name": "python3"
  },
  "language_info": {
   "codemirror_mode": {
    "name": "ipython",
    "version": 3
   },
   "file_extension": ".py",
   "mimetype": "text/x-python",
   "name": "python",
   "nbconvert_exporter": "python",
   "pygments_lexer": "ipython3",
   "version": "3.8.8"
  }
 },
 "nbformat": 4,
 "nbformat_minor": 4
}
