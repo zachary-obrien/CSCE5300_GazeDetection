{
 "cells": [
  {
   "cell_type": "code",
   "execution_count": 2,
   "metadata": {},
   "outputs": [],
   "source": [
    "import os\n",
    "import cv2"
   ]
  },
  {
   "cell_type": "code",
   "execution_count": 3,
   "metadata": {},
   "outputs": [],
   "source": [
    "# Create the haar cascade & Initialize the classifier:\n",
    "cascPath = cv2.data.haarcascades + \"haarcascade_frontalface_default.xml\"\n",
    "faceCascade = cv2.CascadeClassifier(cascPath)\n",
    "\n",
    "for Folder in os.listdir('Extracted_Data'):\n",
    "    \n",
    "    imageFolder = r'Extracted_Data\\\\' + Folder + '\\\\frames\\\\'\n",
    "    \n",
    "    for frame in os.listdir(imageFolder):\n",
    "\n",
    "        imagePath = imageFolder + frame\n",
    "\n",
    "        image = cv2.imread(imagePath)\n",
    "        gray = cv2.cvtColor(image, cv2.COLOR_BGR2GRAY)\n",
    "\n",
    "        # Detect faces in the image\n",
    "        faces = faceCascade.detectMultiScale(\n",
    "            gray,\n",
    "            scaleFactor=1.1,\n",
    "            minNeighbors=5,\n",
    "            minSize=(30, 30),\n",
    "            flags=cv2.CASCADE_SCALE_IMAGE\n",
    "            )\n",
    "        \n",
    "        # Draw a rectangle around the faces\n",
    "        for (x1, y1, w, h) in faces:\n",
    "            copy = image.copy()\n",
    "            cv2.rectangle(copy, (x1, y1), (x1+w, y1+h), (0, 255, 0), 2)\n",
    "            cv2.imshow(\"Faces found\", copy)\n",
    "            Bounding_Box = (frame, x1, y1, w, h)\n",
    "            \n",
    "        if cv2.waitKey(1) & 0xFF == ord('q'):\n",
    "            break\n",
    "            \n",
    "cv2.destroyAllWindows()"
   ]
  }
 ],
 "metadata": {
  "interpreter": {
   "hash": "d1da653b9d4e8419f9e4e7f34517b2d166406bf3bd28c5de51c8f75fec185e0c"
  },
  "kernelspec": {
   "display_name": "Python 3 (ipykernel)",
   "language": "python",
   "name": "python3"
  },
  "language_info": {
   "codemirror_mode": {
    "name": "ipython",
    "version": 3
   },
   "file_extension": ".py",
   "mimetype": "text/x-python",
   "name": "python",
   "nbconvert_exporter": "python",
   "pygments_lexer": "ipython3",
   "version": "3.8.8"
  }
 },
 "nbformat": 4,
 "nbformat_minor": 4
}
